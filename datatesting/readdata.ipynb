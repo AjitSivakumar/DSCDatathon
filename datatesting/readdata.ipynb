{
 "cells": [
  {
   "cell_type": "markdown",
   "id": "b25eb8e4",
   "metadata": {},
   "source": [
    "Embedding the \"places.csv\" file (each place gets a vector using sentence-transformers library)"
   ]
  },
  {
   "cell_type": "code",
   "execution_count": null,
   "id": "80296085",
   "metadata": {},
   "outputs": [
    {
     "name": "stderr",
     "output_type": "stream",
     "text": [
      "C:\\Users\\aarit\\AppData\\Local\\Packages\\PythonSoftwareFoundation.Python.3.11_qbz5n2kfra8p0\\LocalCache\\local-packages\\Python311\\site-packages\\huggingface_hub\\file_download.py:144: UserWarning: `huggingface_hub` cache-system uses symlinks by default to efficiently store duplicated files but your machine does not support them in C:\\Users\\aarit\\.cache\\huggingface\\hub\\models--sentence-transformers--all-MiniLM-L6-v2. Caching files will still work but in a degraded version that might require more space on your disk. This warning can be disabled by setting the `HF_HUB_DISABLE_SYMLINKS_WARNING` environment variable. For more details, see https://huggingface.co/docs/huggingface_hub/how-to-cache#limitations.\n",
      "To support symlinks on Windows, you either need to activate Developer Mode or to run Python as an administrator. In order to activate developer mode, see this article: https://docs.microsoft.com/en-us/windows/apps/get-started/enable-your-device-for-development\n",
      "  warnings.warn(message)\n",
      "Xet Storage is enabled for this repo, but the 'hf_xet' package is not installed. Falling back to regular HTTP download. For better performance, install the package with: `pip install huggingface_hub[hf_xet]` or `pip install hf_xet`\n"
     ]
    }
   ],
   "source": [
    "import pandas as pd\n",
    "from sentence_transformers import SentenceTransformer\n",
    "\n",
    "# Load data\n",
    "data = pd.read_csv('C:/Users/aarit/OneDrive/Documents/GitHub/DSCDatathon/datatesting/files/p2/datathon_p2/places.csv')\n",
    "\n",
    "# Preprocessing: Combine columns to form one string per location\n",
    "def preprocess_row(row):\n",
    "    tags = row['tags'].strip('{}').replace('_', ' ').replace(',', ' ')\n",
    "    neighborhood = row['neighborhood'] if pd.notnull(row['neighborhood']) else ''\n",
    "    emoji = row['emoji'] if pd.notnull(row['emoji']) else ''\n",
    "    text = f\"{row['name']} {row['short_description']} {tags} {neighborhood} {emoji}\"\n",
    "    return text.strip()\n",
    "\n",
    "\n",
    "data['preprocessed_text'] = data.apply(preprocess_row, axis=1)\n",
    "\n",
    "# Initialize model, the model being used is a DEFAULT (this model can be changed)\n",
    "# Other models may provide better semantic/contextual meaning to each sentence\n",
    "model = SentenceTransformer('all-MiniLM-L6-v2')\n",
    "\n",
    "# Embed the preprocessed text\n",
    "embeddings = model.encode(data['preprocessed_text'].tolist())\n",
    "\n",
    "# Optionally: Save the embeddings alongside original data\n",
    "import numpy as np\n",
    "embedding_df = pd.DataFrame(embeddings)\n",
    "data_with_embeddings = pd.concat([data, embedding_df], axis=1)\n",
    "data_with_embeddings.to_csv('places_with_embeddings.csv', index=False)\n",
    "\n",
    "# Now you have embeddings that you can use for similarity search\n"
   ]
  }
 ],
 "metadata": {
  "kernelspec": {
   "display_name": "Python 3",
   "language": "python",
   "name": "python3"
  },
  "language_info": {
   "codemirror_mode": {
    "name": "ipython",
    "version": 3
   },
   "file_extension": ".py",
   "mimetype": "text/x-python",
   "name": "python",
   "nbconvert_exporter": "python",
   "pygments_lexer": "ipython3",
   "version": "3.11.9"
  }
 },
 "nbformat": 4,
 "nbformat_minor": 5
}
