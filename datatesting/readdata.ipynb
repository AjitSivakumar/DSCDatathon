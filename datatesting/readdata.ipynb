{
 "cells": [
  {
   "cell_type": "markdown",
   "id": "b25eb8e4",
   "metadata": {},
   "source": [
    "Embedding the \"places.csv\" file (each place gets a vector using sentence-transformers library)"
   ]
  },
  {
   "cell_type": "code",
   "execution_count": null,
   "id": "80296085",
   "metadata": {},
   "outputs": [
    {
     "name": "stderr",
     "output_type": "stream",
     "text": [
      "C:\\Users\\aarit\\AppData\\Local\\Packages\\PythonSoftwareFoundation.Python.3.11_qbz5n2kfra8p0\\LocalCache\\local-packages\\Python311\\site-packages\\huggingface_hub\\file_download.py:144: UserWarning: `huggingface_hub` cache-system uses symlinks by default to efficiently store duplicated files but your machine does not support them in C:\\Users\\aarit\\.cache\\huggingface\\hub\\models--sentence-transformers--all-MiniLM-L6-v2. Caching files will still work but in a degraded version that might require more space on your disk. This warning can be disabled by setting the `HF_HUB_DISABLE_SYMLINKS_WARNING` environment variable. For more details, see https://huggingface.co/docs/huggingface_hub/how-to-cache#limitations.\n",
      "To support symlinks on Windows, you either need to activate Developer Mode or to run Python as an administrator. In order to activate developer mode, see this article: https://docs.microsoft.com/en-us/windows/apps/get-started/enable-your-device-for-development\n",
      "  warnings.warn(message)\n",
      "Xet Storage is enabled for this repo, but the 'hf_xet' package is not installed. Falling back to regular HTTP download. For better performance, install the package with: `pip install huggingface_hub[hf_xet]` or `pip install hf_xet`\n"
     ]
    }
   ],
   "source": [
    "import pandas as pd\n",
    "from sentence_transformers import SentenceTransformer\n",
    "\n",
    "# Load data\n",
    "data = pd.read_csv('files/p2/datathon_p2/places.csv')\n",
    "\n",
    "# Preprocessing: Combine columns to form one string per location\n",
    "def preprocess_row(row):\n",
    "    tags = row['tags'].strip('{}').replace('_', ' ').replace(',', ' ')\n",
    "    neighborhood = row['neighborhood'] if pd.notnull(row['neighborhood']) else ''\n",
    "    emoji = row['emoji'] if pd.notnull(row['emoji']) else ''\n",
    "    text = f\"{row['name']} {row['short_description']} {tags} {neighborhood} {emoji}\"\n",
    "    return text.strip()\n",
    "\n",
    "\n",
    "data['preprocessed_text'] = data.apply(preprocess_row, axis=1)\n",
    "\n",
    "# Initialize model, the model being used is a DEFAULT (this model can be changed)\n",
    "# Other models may provide better semantic/contextual meaning to each sentence\n",
    "model = SentenceTransformer('all-MiniLM-L6-v2')\n",
    "\n",
    "# Embed the preprocessed text\n",
    "embeddings = model.encode(data['preprocessed_text'].tolist())\n",
    "\n",
    "# Optionally: Save the embeddings alongside original data\n",
    "import numpy as np\n",
    "embedding_df = pd.DataFrame(embeddings)\n",
    "data_with_embeddings = pd.concat([data, embedding_df], axis=1)\n",
    "data_with_embeddings.to_csv('places_with_embeddings.csv', index=False)\n",
    "\n",
    "# Now you have embeddings that you can use for similarity search\n"
   ]
  },
  {
   "cell_type": "markdown",
   "id": "576870f4",
   "metadata": {},
   "source": [
    "Embedding all the Review Data:"
   ]
  },
  {
   "cell_type": "code",
   "execution_count": null,
   "id": "431c04b8",
   "metadata": {},
   "outputs": [
    {
     "name": "stderr",
     "output_type": "stream",
     "text": [
      "C:\\Users\\aarit\\AppData\\Local\\Temp\\ipykernel_28516\\3658619386.py:20: DeprecationWarning: DataFrameGroupBy.apply operated on the grouping columns. This behavior is deprecated, and in a future version of pandas the grouping columns will be excluded from the operation. Either pass `include_groups=False` to exclude the groupings or explicitly select the grouping columns after groupby to silence this warning.\n",
      "  place_review_embeddings = reviews_df.groupby('place_id').apply(get_place_review_embedding)\n"
     ]
    },
    {
     "name": "stdout",
     "output_type": "stream",
     "text": [
      "Done! Now you have 1 review vector per place.\n"
     ]
    }
   ],
   "source": [
    "import pandas as pd\n",
    "from sentence_transformers import SentenceTransformer\n",
    "import numpy as np\n",
    "\n",
    "# 1. Load the reviews CSV\n",
    "reviews_df = pd.read_csv('files/p2/datathon_p2/reviews.csv')\n",
    "\n",
    "# 2. Initialize the embedding model\n",
    "model = SentenceTransformer('all-MiniLM-L6-v2')\n",
    "\n",
    "# 3. Function to get mean review embedding for a place\n",
    "# Embeds each review for each place, and then takes the avg vector from all reviews\n",
    "# End result: One embedded vector for each location\n",
    "def get_place_review_embedding(group):\n",
    "    review_texts = group['review_text'].dropna().tolist()\n",
    "    if len(review_texts) == 0:\n",
    "        return np.zeros(model.get_sentence_embedding_dimension())  # Handle case with no reviews\n",
    "    embeddings = model.encode(review_texts, normalize_embeddings=True)\n",
    "    return np.mean(embeddings, axis=0)\n",
    "\n",
    "# 4. Group by place_id and compute mean embedding\n",
    "place_review_embeddings = reviews_df.groupby('place_id').apply(get_place_review_embedding)\n",
    "\n",
    "# 5. (Optional) Convert to a DataFrame for easier handling\n",
    "place_review_embeddings_df = pd.DataFrame(place_review_embeddings.tolist(), index=place_review_embeddings.index)\n",
    "\n",
    "# 6. Save to a file if you want\n",
    "place_review_embeddings_df.to_csv('place_review_embeddings.csv')\n",
    "\n",
    "# print(\"Done! Now you have 1 review vector per place.\")\n"
   ]
  },
  {
   "cell_type": "markdown",
   "id": "4b8d50ae",
   "metadata": {},
   "source": [
    "Sorting the embedded review vectors in order"
   ]
  },
  {
   "cell_type": "code",
   "execution_count": 6,
   "id": "86f41cbb",
   "metadata": {},
   "outputs": [],
   "source": [
    "import pandas as pd\n",
    "\n",
    "# Load your current review embeddings file\n",
    "review_embeddings_df = pd.read_csv('files/p2/datathon_p2/place_review_embeddings.csv', index_col=0)\n",
    "\n",
    "# Sort the index (place_id) numerically\n",
    "review_embeddings_df = review_embeddings_df.sort_index(key=lambda x: x.str.extract('(\\d+)').astype(int)[0])\n",
    "\n",
    "# Save it back (overwriting the file or saving as a new one)\n",
    "review_embeddings_df.to_csv('place_review_embeddings_sorted.csv')\n"
   ]
  },
  {
   "cell_type": "markdown",
   "id": "f9eff64a",
   "metadata": {},
   "source": [
    "making place data only embeddings, no text"
   ]
  },
  {
   "cell_type": "code",
   "execution_count": 7,
   "id": "5ade4340",
   "metadata": {},
   "outputs": [],
   "source": [
    "import pandas as pd\n",
    "\n",
    "# Load your data\n",
    "df = pd.read_csv('files/p2/datathon_p2/places_with_embeddings.csv')\n",
    "\n",
    "# Keep only the embedding columns (which are the ones named with numbers)\n",
    "embedding_columns = [str(i) for i in range(384)]\n",
    "embeddings_only = df[embedding_columns]\n",
    "\n",
    "# Save to a new CSV\n",
    "embeddings_only.to_csv('embeddings_only.csv', index=False)\n"
   ]
  }
 ],
 "metadata": {
  "kernelspec": {
   "display_name": "Python 3",
   "language": "python",
   "name": "python3"
  },
  "language_info": {
   "codemirror_mode": {
    "name": "ipython",
    "version": 3
   },
   "file_extension": ".py",
   "mimetype": "text/x-python",
   "name": "python",
   "nbconvert_exporter": "python",
   "pygments_lexer": "ipython3",
   "version": "3.11.9"
  }
 },
 "nbformat": 4,
 "nbformat_minor": 5
}
